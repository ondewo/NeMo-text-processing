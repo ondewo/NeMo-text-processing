{
 "cells": [
  {
   "cell_type": "code",
   "execution_count": 2,
   "metadata": {},
   "outputs": [
    {
     "name": "stderr",
     "output_type": "stream",
     "text": [
      " NeMo-text-processing :: INFO     :: Creating ClassifyFst grammars.\n",
      " NeMo-text-processing :: INFO     :: Creating ClassifyFst grammars.\n",
      " NeMo-text-processing :: INFO     :: Creating ClassifyFst grammars.\n",
      " NeMo-text-processing :: DEBUG    :: tokens { cardinal { integer: \"100\" } } tokens { name: \"and\" } tokens { cardinal { integer: \"70\" } } tokens { name: \"and\" } tokens { cardinal { integer: \"8\" } }\n"
     ]
    },
    {
     "name": "stdout",
     "output_type": "stream",
     "text": [
      "total time: 0.029247283935546875\n",
      "100 and 70 and 8\n"
     ]
    }
   ],
   "source": [
    "import time\n",
    "from nemo_text_processing.inverse_text_normalization.inverse_normalize import InverseNormalizer\n",
    "\n",
    "LANGUAGE = \"en\"\n",
    "\n",
    "\n",
    "inverse_normalizer = InverseNormalizer(lang=LANGUAGE)\n",
    "\n",
    "spoken = [\n",
    "    \"a hundred and seventy and five and eight\",\n",
    "    \"hundred second\",\n",
    "    \"the first of january twenty twelve\",\n",
    "    \"a million hundred thousand thirty two\",\n",
    "    \"we paid a hundred twenty three dollars for this desk\", \n",
    "    \"My Email address is John Smith underscore sixty nine at outlook dot com\", \n",
    "    \"John dot Smith underscore sixty at outlook dot com\", \n",
    "    \"My Email address is k o m a r i dot H a n n a n at g mail dot com and born on twenty third April nineteen ninety three\",\n",
    "    \"phone number is plus ninety fifty three one seven six eight zero six one o\",\n",
    "    \"phone number is plus ninety triple five nine zero two double one double eighty four\", \n",
    "    \"my phone number is plus ninety double five one seven six eight o six ten \",\n",
    "    \"You can reach me at john dot smith dash eighty four at gmail dot com so you can send me email in tenth april twenty twenty four\",\n",
    "    \"my email address is john.smith-84 at gmail.com and you can send me email every day you want\",\n",
    "    \"my phone number is plus 90 551 768 0610\",\n",
    "    \"sende mir eine E-Mail an john unterstrich smith achtundsechzig Affenklammer gmail punkt com\",\n",
    "    \"es lautet john unterstrich smith sechs acht klammeraffe gmail punkt com für meine e-mails.\",\n",
    "    \"meine E-Mail-Adresse ist john unterstrich smith punkt null acht eins Affenklammer gmail punkt com\",\n",
    "    \"Die Telefonnummer ist plus doppelt vier eins eins eins zwei drei vier eins zwei drei vier \",\n",
    "    \"meine telefonnummer ist plus neunzig dreifach fünf eins sieben sechs acht doppelt zehn\",\n",
    "]\n",
    "for i in range(1):\n",
    "    tick = time.time()\n",
    "    un_normalized = inverse_normalizer.inverse_normalize(spoken[0].lower(), verbose=True)\n",
    "\n",
    "    print(\"total time:\", time.time() - tick)\n",
    "    print(un_normalized)"
   ]
  }
 ],
 "metadata": {
  "kernelspec": {
   "display_name": "nemo-text-processing",
   "language": "python",
   "name": "python3"
  },
  "language_info": {
   "codemirror_mode": {
    "name": "ipython",
    "version": 3
   },
   "file_extension": ".py",
   "mimetype": "text/x-python",
   "name": "python",
   "nbconvert_exporter": "python",
   "pygments_lexer": "ipython3",
   "version": "3.10.12"
  }
 },
 "nbformat": 4,
 "nbformat_minor": 2
}
